{
  "nbformat": 4,
  "nbformat_minor": 0,
  "metadata": {
    "colab": {
      "name": "NER_BERT.ipynb",
      "provenance": [],
      "collapsed_sections": [
        "bTqqWa-JllW6"
      ],
      "machine_shape": "hm"
    },
    "kernelspec": {
      "name": "python3",
      "display_name": "Python 3"
    },
    "accelerator": "GPU",
    "widgets": {
      "application/vnd.jupyter.widget-state+json": {
        "aa345251d7954539b104b4ba1cd5d558": {
          "model_module": "@jupyter-widgets/controls",
          "model_name": "HBoxModel",
          "state": {
            "_view_name": "HBoxView",
            "_dom_classes": [],
            "_model_name": "HBoxModel",
            "_view_module": "@jupyter-widgets/controls",
            "_model_module_version": "1.5.0",
            "_view_count": null,
            "_view_module_version": "1.5.0",
            "box_style": "",
            "layout": "IPY_MODEL_048eeae8626a449bac362b774c11bb9e",
            "_model_module": "@jupyter-widgets/controls",
            "children": [
              "IPY_MODEL_cfaffc6c3b0445308bff386abec1c5e4",
              "IPY_MODEL_8de01a981ee74e9eb45f769c139ad798"
            ]
          }
        },
        "048eeae8626a449bac362b774c11bb9e": {
          "model_module": "@jupyter-widgets/base",
          "model_name": "LayoutModel",
          "state": {
            "_view_name": "LayoutView",
            "grid_template_rows": null,
            "right": null,
            "justify_content": null,
            "_view_module": "@jupyter-widgets/base",
            "overflow": null,
            "_model_module_version": "1.2.0",
            "_view_count": null,
            "flex_flow": null,
            "width": null,
            "min_width": null,
            "border": null,
            "align_items": null,
            "bottom": null,
            "_model_module": "@jupyter-widgets/base",
            "top": null,
            "grid_column": null,
            "overflow_y": null,
            "overflow_x": null,
            "grid_auto_flow": null,
            "grid_area": null,
            "grid_template_columns": null,
            "flex": null,
            "_model_name": "LayoutModel",
            "justify_items": null,
            "grid_row": null,
            "max_height": null,
            "align_content": null,
            "visibility": null,
            "align_self": null,
            "height": null,
            "min_height": null,
            "padding": null,
            "grid_auto_rows": null,
            "grid_gap": null,
            "max_width": null,
            "order": null,
            "_view_module_version": "1.2.0",
            "grid_template_areas": null,
            "object_position": null,
            "object_fit": null,
            "grid_auto_columns": null,
            "margin": null,
            "display": null,
            "left": null
          }
        },
        "cfaffc6c3b0445308bff386abec1c5e4": {
          "model_module": "@jupyter-widgets/controls",
          "model_name": "IntProgressModel",
          "state": {
            "_view_name": "ProgressView",
            "style": "IPY_MODEL_3f81a1aa22874999a14135a5157f3e2e",
            "_dom_classes": [],
            "description": "Downloading: 100%",
            "_model_name": "IntProgressModel",
            "bar_style": "success",
            "max": 361,
            "_view_module": "@jupyter-widgets/controls",
            "_model_module_version": "1.5.0",
            "value": 361,
            "_view_count": null,
            "_view_module_version": "1.5.0",
            "orientation": "horizontal",
            "min": 0,
            "description_tooltip": null,
            "_model_module": "@jupyter-widgets/controls",
            "layout": "IPY_MODEL_f6421abb4e844295b17cb6f7f7023c1d"
          }
        },
        "8de01a981ee74e9eb45f769c139ad798": {
          "model_module": "@jupyter-widgets/controls",
          "model_name": "HTMLModel",
          "state": {
            "_view_name": "HTMLView",
            "style": "IPY_MODEL_1af9fc90f44349678c3609f2fbbca09a",
            "_dom_classes": [],
            "description": "",
            "_model_name": "HTMLModel",
            "placeholder": "​",
            "_view_module": "@jupyter-widgets/controls",
            "_model_module_version": "1.5.0",
            "value": " 361/361 [00:00&lt;00:00, 820B/s]",
            "_view_count": null,
            "_view_module_version": "1.5.0",
            "description_tooltip": null,
            "_model_module": "@jupyter-widgets/controls",
            "layout": "IPY_MODEL_8a49a01921d540c0926e05945a74721f"
          }
        },
        "3f81a1aa22874999a14135a5157f3e2e": {
          "model_module": "@jupyter-widgets/controls",
          "model_name": "ProgressStyleModel",
          "state": {
            "_view_name": "StyleView",
            "_model_name": "ProgressStyleModel",
            "description_width": "initial",
            "_view_module": "@jupyter-widgets/base",
            "_model_module_version": "1.5.0",
            "_view_count": null,
            "_view_module_version": "1.2.0",
            "bar_color": null,
            "_model_module": "@jupyter-widgets/controls"
          }
        },
        "f6421abb4e844295b17cb6f7f7023c1d": {
          "model_module": "@jupyter-widgets/base",
          "model_name": "LayoutModel",
          "state": {
            "_view_name": "LayoutView",
            "grid_template_rows": null,
            "right": null,
            "justify_content": null,
            "_view_module": "@jupyter-widgets/base",
            "overflow": null,
            "_model_module_version": "1.2.0",
            "_view_count": null,
            "flex_flow": null,
            "width": null,
            "min_width": null,
            "border": null,
            "align_items": null,
            "bottom": null,
            "_model_module": "@jupyter-widgets/base",
            "top": null,
            "grid_column": null,
            "overflow_y": null,
            "overflow_x": null,
            "grid_auto_flow": null,
            "grid_area": null,
            "grid_template_columns": null,
            "flex": null,
            "_model_name": "LayoutModel",
            "justify_items": null,
            "grid_row": null,
            "max_height": null,
            "align_content": null,
            "visibility": null,
            "align_self": null,
            "height": null,
            "min_height": null,
            "padding": null,
            "grid_auto_rows": null,
            "grid_gap": null,
            "max_width": null,
            "order": null,
            "_view_module_version": "1.2.0",
            "grid_template_areas": null,
            "object_position": null,
            "object_fit": null,
            "grid_auto_columns": null,
            "margin": null,
            "display": null,
            "left": null
          }
        },
        "1af9fc90f44349678c3609f2fbbca09a": {
          "model_module": "@jupyter-widgets/controls",
          "model_name": "DescriptionStyleModel",
          "state": {
            "_view_name": "StyleView",
            "_model_name": "DescriptionStyleModel",
            "description_width": "",
            "_view_module": "@jupyter-widgets/base",
            "_model_module_version": "1.5.0",
            "_view_count": null,
            "_view_module_version": "1.2.0",
            "_model_module": "@jupyter-widgets/controls"
          }
        },
        "8a49a01921d540c0926e05945a74721f": {
          "model_module": "@jupyter-widgets/base",
          "model_name": "LayoutModel",
          "state": {
            "_view_name": "LayoutView",
            "grid_template_rows": null,
            "right": null,
            "justify_content": null,
            "_view_module": "@jupyter-widgets/base",
            "overflow": null,
            "_model_module_version": "1.2.0",
            "_view_count": null,
            "flex_flow": null,
            "width": null,
            "min_width": null,
            "border": null,
            "align_items": null,
            "bottom": null,
            "_model_module": "@jupyter-widgets/base",
            "top": null,
            "grid_column": null,
            "overflow_y": null,
            "overflow_x": null,
            "grid_auto_flow": null,
            "grid_area": null,
            "grid_template_columns": null,
            "flex": null,
            "_model_name": "LayoutModel",
            "justify_items": null,
            "grid_row": null,
            "max_height": null,
            "align_content": null,
            "visibility": null,
            "align_self": null,
            "height": null,
            "min_height": null,
            "padding": null,
            "grid_auto_rows": null,
            "grid_gap": null,
            "max_width": null,
            "order": null,
            "_view_module_version": "1.2.0",
            "grid_template_areas": null,
            "object_position": null,
            "object_fit": null,
            "grid_auto_columns": null,
            "margin": null,
            "display": null,
            "left": null
          }
        },
        "35f12ae46d484f3f9bd5bf1313d8088e": {
          "model_module": "@jupyter-widgets/controls",
          "model_name": "HBoxModel",
          "state": {
            "_view_name": "HBoxView",
            "_dom_classes": [],
            "_model_name": "HBoxModel",
            "_view_module": "@jupyter-widgets/controls",
            "_model_module_version": "1.5.0",
            "_view_count": null,
            "_view_module_version": "1.5.0",
            "box_style": "",
            "layout": "IPY_MODEL_99b5d8ac0be4459288d33c3597f609a2",
            "_model_module": "@jupyter-widgets/controls",
            "children": [
              "IPY_MODEL_7a156bb63fd8490a88f4ca4edd1852af",
              "IPY_MODEL_84286491a9004c0bb0d3ef2d9eef0a61"
            ]
          }
        },
        "99b5d8ac0be4459288d33c3597f609a2": {
          "model_module": "@jupyter-widgets/base",
          "model_name": "LayoutModel",
          "state": {
            "_view_name": "LayoutView",
            "grid_template_rows": null,
            "right": null,
            "justify_content": null,
            "_view_module": "@jupyter-widgets/base",
            "overflow": null,
            "_model_module_version": "1.2.0",
            "_view_count": null,
            "flex_flow": null,
            "width": null,
            "min_width": null,
            "border": null,
            "align_items": null,
            "bottom": null,
            "_model_module": "@jupyter-widgets/base",
            "top": null,
            "grid_column": null,
            "overflow_y": null,
            "overflow_x": null,
            "grid_auto_flow": null,
            "grid_area": null,
            "grid_template_columns": null,
            "flex": null,
            "_model_name": "LayoutModel",
            "justify_items": null,
            "grid_row": null,
            "max_height": null,
            "align_content": null,
            "visibility": null,
            "align_self": null,
            "height": null,
            "min_height": null,
            "padding": null,
            "grid_auto_rows": null,
            "grid_gap": null,
            "max_width": null,
            "order": null,
            "_view_module_version": "1.2.0",
            "grid_template_areas": null,
            "object_position": null,
            "object_fit": null,
            "grid_auto_columns": null,
            "margin": null,
            "display": null,
            "left": null
          }
        },
        "7a156bb63fd8490a88f4ca4edd1852af": {
          "model_module": "@jupyter-widgets/controls",
          "model_name": "IntProgressModel",
          "state": {
            "_view_name": "ProgressView",
            "style": "IPY_MODEL_4db67c07b1de43cdbf7f284352183dd6",
            "_dom_classes": [],
            "description": "Downloading: 100%",
            "_model_name": "IntProgressModel",
            "bar_style": "success",
            "max": 440473133,
            "_view_module": "@jupyter-widgets/controls",
            "_model_module_version": "1.5.0",
            "value": 440473133,
            "_view_count": null,
            "_view_module_version": "1.5.0",
            "orientation": "horizontal",
            "min": 0,
            "description_tooltip": null,
            "_model_module": "@jupyter-widgets/controls",
            "layout": "IPY_MODEL_e5e1a74269fa4dab97535e96d339e0dc"
          }
        },
        "84286491a9004c0bb0d3ef2d9eef0a61": {
          "model_module": "@jupyter-widgets/controls",
          "model_name": "HTMLModel",
          "state": {
            "_view_name": "HTMLView",
            "style": "IPY_MODEL_bc3fa8493b874ab88a31a0a4a52c2661",
            "_dom_classes": [],
            "description": "",
            "_model_name": "HTMLModel",
            "placeholder": "​",
            "_view_module": "@jupyter-widgets/controls",
            "_model_module_version": "1.5.0",
            "value": " 440M/440M [00:06&lt;00:00, 68.9MB/s]",
            "_view_count": null,
            "_view_module_version": "1.5.0",
            "description_tooltip": null,
            "_model_module": "@jupyter-widgets/controls",
            "layout": "IPY_MODEL_dd0564744f8640b7909d07019dca5b0f"
          }
        },
        "4db67c07b1de43cdbf7f284352183dd6": {
          "model_module": "@jupyter-widgets/controls",
          "model_name": "ProgressStyleModel",
          "state": {
            "_view_name": "StyleView",
            "_model_name": "ProgressStyleModel",
            "description_width": "initial",
            "_view_module": "@jupyter-widgets/base",
            "_model_module_version": "1.5.0",
            "_view_count": null,
            "_view_module_version": "1.2.0",
            "bar_color": null,
            "_model_module": "@jupyter-widgets/controls"
          }
        },
        "e5e1a74269fa4dab97535e96d339e0dc": {
          "model_module": "@jupyter-widgets/base",
          "model_name": "LayoutModel",
          "state": {
            "_view_name": "LayoutView",
            "grid_template_rows": null,
            "right": null,
            "justify_content": null,
            "_view_module": "@jupyter-widgets/base",
            "overflow": null,
            "_model_module_version": "1.2.0",
            "_view_count": null,
            "flex_flow": null,
            "width": null,
            "min_width": null,
            "border": null,
            "align_items": null,
            "bottom": null,
            "_model_module": "@jupyter-widgets/base",
            "top": null,
            "grid_column": null,
            "overflow_y": null,
            "overflow_x": null,
            "grid_auto_flow": null,
            "grid_area": null,
            "grid_template_columns": null,
            "flex": null,
            "_model_name": "LayoutModel",
            "justify_items": null,
            "grid_row": null,
            "max_height": null,
            "align_content": null,
            "visibility": null,
            "align_self": null,
            "height": null,
            "min_height": null,
            "padding": null,
            "grid_auto_rows": null,
            "grid_gap": null,
            "max_width": null,
            "order": null,
            "_view_module_version": "1.2.0",
            "grid_template_areas": null,
            "object_position": null,
            "object_fit": null,
            "grid_auto_columns": null,
            "margin": null,
            "display": null,
            "left": null
          }
        },
        "bc3fa8493b874ab88a31a0a4a52c2661": {
          "model_module": "@jupyter-widgets/controls",
          "model_name": "DescriptionStyleModel",
          "state": {
            "_view_name": "StyleView",
            "_model_name": "DescriptionStyleModel",
            "description_width": "",
            "_view_module": "@jupyter-widgets/base",
            "_model_module_version": "1.5.0",
            "_view_count": null,
            "_view_module_version": "1.2.0",
            "_model_module": "@jupyter-widgets/controls"
          }
        },
        "dd0564744f8640b7909d07019dca5b0f": {
          "model_module": "@jupyter-widgets/base",
          "model_name": "LayoutModel",
          "state": {
            "_view_name": "LayoutView",
            "grid_template_rows": null,
            "right": null,
            "justify_content": null,
            "_view_module": "@jupyter-widgets/base",
            "overflow": null,
            "_model_module_version": "1.2.0",
            "_view_count": null,
            "flex_flow": null,
            "width": null,
            "min_width": null,
            "border": null,
            "align_items": null,
            "bottom": null,
            "_model_module": "@jupyter-widgets/base",
            "top": null,
            "grid_column": null,
            "overflow_y": null,
            "overflow_x": null,
            "grid_auto_flow": null,
            "grid_area": null,
            "grid_template_columns": null,
            "flex": null,
            "_model_name": "LayoutModel",
            "justify_items": null,
            "grid_row": null,
            "max_height": null,
            "align_content": null,
            "visibility": null,
            "align_self": null,
            "height": null,
            "min_height": null,
            "padding": null,
            "grid_auto_rows": null,
            "grid_gap": null,
            "max_width": null,
            "order": null,
            "_view_module_version": "1.2.0",
            "grid_template_areas": null,
            "object_position": null,
            "object_fit": null,
            "grid_auto_columns": null,
            "margin": null,
            "display": null,
            "left": null
          }
        },
        "75b9f371936c48db84430e23636664bc": {
          "model_module": "@jupyter-widgets/controls",
          "model_name": "HBoxModel",
          "state": {
            "_view_name": "HBoxView",
            "_dom_classes": [],
            "_model_name": "HBoxModel",
            "_view_module": "@jupyter-widgets/controls",
            "_model_module_version": "1.5.0",
            "_view_count": null,
            "_view_module_version": "1.5.0",
            "box_style": "",
            "layout": "IPY_MODEL_c0538e124c5a4be48d5ae908dcb61117",
            "_model_module": "@jupyter-widgets/controls",
            "children": [
              "IPY_MODEL_89708b145e72447294c5ae5d838088f6",
              "IPY_MODEL_8b84b09bbf3c423e8be08e7a8a561aa0"
            ]
          }
        },
        "c0538e124c5a4be48d5ae908dcb61117": {
          "model_module": "@jupyter-widgets/base",
          "model_name": "LayoutModel",
          "state": {
            "_view_name": "LayoutView",
            "grid_template_rows": null,
            "right": null,
            "justify_content": null,
            "_view_module": "@jupyter-widgets/base",
            "overflow": null,
            "_model_module_version": "1.2.0",
            "_view_count": null,
            "flex_flow": null,
            "width": null,
            "min_width": null,
            "border": null,
            "align_items": null,
            "bottom": null,
            "_model_module": "@jupyter-widgets/base",
            "top": null,
            "grid_column": null,
            "overflow_y": null,
            "overflow_x": null,
            "grid_auto_flow": null,
            "grid_area": null,
            "grid_template_columns": null,
            "flex": null,
            "_model_name": "LayoutModel",
            "justify_items": null,
            "grid_row": null,
            "max_height": null,
            "align_content": null,
            "visibility": null,
            "align_self": null,
            "height": null,
            "min_height": null,
            "padding": null,
            "grid_auto_rows": null,
            "grid_gap": null,
            "max_width": null,
            "order": null,
            "_view_module_version": "1.2.0",
            "grid_template_areas": null,
            "object_position": null,
            "object_fit": null,
            "grid_auto_columns": null,
            "margin": null,
            "display": null,
            "left": null
          }
        },
        "89708b145e72447294c5ae5d838088f6": {
          "model_module": "@jupyter-widgets/controls",
          "model_name": "IntProgressModel",
          "state": {
            "_view_name": "ProgressView",
            "style": "IPY_MODEL_cce5268550f6479b8a6bc157126123ca",
            "_dom_classes": [],
            "description": "Downloading: 100%",
            "_model_name": "IntProgressModel",
            "bar_style": "success",
            "max": 231508,
            "_view_module": "@jupyter-widgets/controls",
            "_model_module_version": "1.5.0",
            "value": 231508,
            "_view_count": null,
            "_view_module_version": "1.5.0",
            "orientation": "horizontal",
            "min": 0,
            "description_tooltip": null,
            "_model_module": "@jupyter-widgets/controls",
            "layout": "IPY_MODEL_7a71db47319644a8a6c77139c150b5ba"
          }
        },
        "8b84b09bbf3c423e8be08e7a8a561aa0": {
          "model_module": "@jupyter-widgets/controls",
          "model_name": "HTMLModel",
          "state": {
            "_view_name": "HTMLView",
            "style": "IPY_MODEL_15aa64b698e148cdbf2d9cfe37ff74b9",
            "_dom_classes": [],
            "description": "",
            "_model_name": "HTMLModel",
            "placeholder": "​",
            "_view_module": "@jupyter-widgets/controls",
            "_model_module_version": "1.5.0",
            "value": " 232k/232k [00:00&lt;00:00, 2.11MB/s]",
            "_view_count": null,
            "_view_module_version": "1.5.0",
            "description_tooltip": null,
            "_model_module": "@jupyter-widgets/controls",
            "layout": "IPY_MODEL_8a072de2d38d4ff1aad707db55706eb2"
          }
        },
        "cce5268550f6479b8a6bc157126123ca": {
          "model_module": "@jupyter-widgets/controls",
          "model_name": "ProgressStyleModel",
          "state": {
            "_view_name": "StyleView",
            "_model_name": "ProgressStyleModel",
            "description_width": "initial",
            "_view_module": "@jupyter-widgets/base",
            "_model_module_version": "1.5.0",
            "_view_count": null,
            "_view_module_version": "1.2.0",
            "bar_color": null,
            "_model_module": "@jupyter-widgets/controls"
          }
        },
        "7a71db47319644a8a6c77139c150b5ba": {
          "model_module": "@jupyter-widgets/base",
          "model_name": "LayoutModel",
          "state": {
            "_view_name": "LayoutView",
            "grid_template_rows": null,
            "right": null,
            "justify_content": null,
            "_view_module": "@jupyter-widgets/base",
            "overflow": null,
            "_model_module_version": "1.2.0",
            "_view_count": null,
            "flex_flow": null,
            "width": null,
            "min_width": null,
            "border": null,
            "align_items": null,
            "bottom": null,
            "_model_module": "@jupyter-widgets/base",
            "top": null,
            "grid_column": null,
            "overflow_y": null,
            "overflow_x": null,
            "grid_auto_flow": null,
            "grid_area": null,
            "grid_template_columns": null,
            "flex": null,
            "_model_name": "LayoutModel",
            "justify_items": null,
            "grid_row": null,
            "max_height": null,
            "align_content": null,
            "visibility": null,
            "align_self": null,
            "height": null,
            "min_height": null,
            "padding": null,
            "grid_auto_rows": null,
            "grid_gap": null,
            "max_width": null,
            "order": null,
            "_view_module_version": "1.2.0",
            "grid_template_areas": null,
            "object_position": null,
            "object_fit": null,
            "grid_auto_columns": null,
            "margin": null,
            "display": null,
            "left": null
          }
        },
        "15aa64b698e148cdbf2d9cfe37ff74b9": {
          "model_module": "@jupyter-widgets/controls",
          "model_name": "DescriptionStyleModel",
          "state": {
            "_view_name": "StyleView",
            "_model_name": "DescriptionStyleModel",
            "description_width": "",
            "_view_module": "@jupyter-widgets/base",
            "_model_module_version": "1.5.0",
            "_view_count": null,
            "_view_module_version": "1.2.0",
            "_model_module": "@jupyter-widgets/controls"
          }
        },
        "8a072de2d38d4ff1aad707db55706eb2": {
          "model_module": "@jupyter-widgets/base",
          "model_name": "LayoutModel",
          "state": {
            "_view_name": "LayoutView",
            "grid_template_rows": null,
            "right": null,
            "justify_content": null,
            "_view_module": "@jupyter-widgets/base",
            "overflow": null,
            "_model_module_version": "1.2.0",
            "_view_count": null,
            "flex_flow": null,
            "width": null,
            "min_width": null,
            "border": null,
            "align_items": null,
            "bottom": null,
            "_model_module": "@jupyter-widgets/base",
            "top": null,
            "grid_column": null,
            "overflow_y": null,
            "overflow_x": null,
            "grid_auto_flow": null,
            "grid_area": null,
            "grid_template_columns": null,
            "flex": null,
            "_model_name": "LayoutModel",
            "justify_items": null,
            "grid_row": null,
            "max_height": null,
            "align_content": null,
            "visibility": null,
            "align_self": null,
            "height": null,
            "min_height": null,
            "padding": null,
            "grid_auto_rows": null,
            "grid_gap": null,
            "max_width": null,
            "order": null,
            "_view_module_version": "1.2.0",
            "grid_template_areas": null,
            "object_position": null,
            "object_fit": null,
            "grid_auto_columns": null,
            "margin": null,
            "display": null,
            "left": null
          }
        }
      }
    }
  },
  "cells": [
    {
      "cell_type": "code",
      "metadata": {
        "id": "DGT2-xKP_uhH",
        "colab_type": "code",
        "outputId": "bb51e69e-ddcd-4656-cba8-d0e0c9c885ad",
        "colab": {
          "base_uri": "https://localhost:8080/",
          "height": 717
        }
      },
      "source": [
        "import numpy as np\n",
        "import torch\n",
        "from torch import nn\n",
        "import nltk\n",
        "nltk.download('stopwords')\n",
        "import pandas as pd\n",
        "from nltk.corpus import stopwords\n",
        "import torch.optim as optim\n",
        "from tqdm import tqdm\n",
        "import os\n",
        "import pandas as pd\n",
        "import tensorflow as tf\n",
        "import torch\n",
        "!pip install transformers\n",
        "from transformers import BertTokenizer"
      ],
      "execution_count": 1,
      "outputs": [
        {
          "output_type": "stream",
          "text": [
            "[nltk_data] Downloading package stopwords to /root/nltk_data...\n",
            "[nltk_data]   Unzipping corpora/stopwords.zip.\n",
            "Collecting transformers\n",
            "\u001b[?25l  Downloading https://files.pythonhosted.org/packages/37/ba/dda44bbf35b071441635708a3dd568a5ca6bf29f77389f7c7c6818ae9498/transformers-2.7.0-py3-none-any.whl (544kB)\n",
            "\u001b[K     |████████████████████████████████| 552kB 3.4MB/s \n",
            "\u001b[?25hCollecting tokenizers==0.5.2\n",
            "\u001b[?25l  Downloading https://files.pythonhosted.org/packages/d1/3f/73c881ea4723e43c1e9acf317cf407fab3a278daab3a69c98dcac511c04f/tokenizers-0.5.2-cp36-cp36m-manylinux1_x86_64.whl (3.7MB)\n",
            "\u001b[K     |████████████████████████████████| 3.7MB 15.9MB/s \n",
            "\u001b[?25hRequirement already satisfied: regex!=2019.12.17 in /usr/local/lib/python3.6/dist-packages (from transformers) (2019.12.20)\n",
            "Requirement already satisfied: boto3 in /usr/local/lib/python3.6/dist-packages (from transformers) (1.12.27)\n",
            "Requirement already satisfied: tqdm>=4.27 in /usr/local/lib/python3.6/dist-packages (from transformers) (4.38.0)\n",
            "Requirement already satisfied: requests in /usr/local/lib/python3.6/dist-packages (from transformers) (2.21.0)\n",
            "Collecting sacremoses\n",
            "\u001b[?25l  Downloading https://files.pythonhosted.org/packages/a6/b4/7a41d630547a4afd58143597d5a49e07bfd4c42914d8335b2a5657efc14b/sacremoses-0.0.38.tar.gz (860kB)\n",
            "\u001b[K     |████████████████████████████████| 870kB 28.2MB/s \n",
            "\u001b[?25hRequirement already satisfied: numpy in /usr/local/lib/python3.6/dist-packages (from transformers) (1.18.2)\n",
            "Requirement already satisfied: dataclasses; python_version < \"3.7\" in /usr/local/lib/python3.6/dist-packages (from transformers) (0.7)\n",
            "Requirement already satisfied: filelock in /usr/local/lib/python3.6/dist-packages (from transformers) (3.0.12)\n",
            "Collecting sentencepiece\n",
            "\u001b[?25l  Downloading https://files.pythonhosted.org/packages/74/f4/2d5214cbf13d06e7cb2c20d84115ca25b53ea76fa1f0ade0e3c9749de214/sentencepiece-0.1.85-cp36-cp36m-manylinux1_x86_64.whl (1.0MB)\n",
            "\u001b[K     |████████████████████████████████| 1.0MB 41.0MB/s \n",
            "\u001b[?25hRequirement already satisfied: botocore<1.16.0,>=1.15.27 in /usr/local/lib/python3.6/dist-packages (from boto3->transformers) (1.15.27)\n",
            "Requirement already satisfied: jmespath<1.0.0,>=0.7.1 in /usr/local/lib/python3.6/dist-packages (from boto3->transformers) (0.9.5)\n",
            "Requirement already satisfied: s3transfer<0.4.0,>=0.3.0 in /usr/local/lib/python3.6/dist-packages (from boto3->transformers) (0.3.3)\n",
            "Requirement already satisfied: idna<2.9,>=2.5 in /usr/local/lib/python3.6/dist-packages (from requests->transformers) (2.8)\n",
            "Requirement already satisfied: urllib3<1.25,>=1.21.1 in /usr/local/lib/python3.6/dist-packages (from requests->transformers) (1.24.3)\n",
            "Requirement already satisfied: certifi>=2017.4.17 in /usr/local/lib/python3.6/dist-packages (from requests->transformers) (2019.11.28)\n",
            "Requirement already satisfied: chardet<3.1.0,>=3.0.2 in /usr/local/lib/python3.6/dist-packages (from requests->transformers) (3.0.4)\n",
            "Requirement already satisfied: six in /usr/local/lib/python3.6/dist-packages (from sacremoses->transformers) (1.12.0)\n",
            "Requirement already satisfied: click in /usr/local/lib/python3.6/dist-packages (from sacremoses->transformers) (7.1.1)\n",
            "Requirement already satisfied: joblib in /usr/local/lib/python3.6/dist-packages (from sacremoses->transformers) (0.14.1)\n",
            "Requirement already satisfied: docutils<0.16,>=0.10 in /usr/local/lib/python3.6/dist-packages (from botocore<1.16.0,>=1.15.27->boto3->transformers) (0.15.2)\n",
            "Requirement already satisfied: python-dateutil<3.0.0,>=2.1 in /usr/local/lib/python3.6/dist-packages (from botocore<1.16.0,>=1.15.27->boto3->transformers) (2.8.1)\n",
            "Building wheels for collected packages: sacremoses\n",
            "  Building wheel for sacremoses (setup.py) ... \u001b[?25l\u001b[?25hdone\n",
            "  Created wheel for sacremoses: filename=sacremoses-0.0.38-cp36-none-any.whl size=884628 sha256=ebe6c941665276697b32e28b9ee1244ef174ce18b7d6c191d4e0b52c1059395e\n",
            "  Stored in directory: /root/.cache/pip/wheels/6d/ec/1a/21b8912e35e02741306f35f66c785f3afe94de754a0eaf1422\n",
            "Successfully built sacremoses\n",
            "Installing collected packages: tokenizers, sacremoses, sentencepiece, transformers\n",
            "Successfully installed sacremoses-0.0.38 sentencepiece-0.1.85 tokenizers-0.5.2 transformers-2.7.0\n"
          ],
          "name": "stdout"
        }
      ]
    },
    {
      "cell_type": "code",
      "metadata": {
        "id": "UYAOqt3qNKQn",
        "colab_type": "code",
        "outputId": "0eb26f66-8725-4c49-b618-0ccffa6df105",
        "colab": {
          "base_uri": "https://localhost:8080/",
          "height": 269,
          "referenced_widgets": [
            "aa345251d7954539b104b4ba1cd5d558",
            "048eeae8626a449bac362b774c11bb9e",
            "cfaffc6c3b0445308bff386abec1c5e4",
            "8de01a981ee74e9eb45f769c139ad798",
            "3f81a1aa22874999a14135a5157f3e2e",
            "f6421abb4e844295b17cb6f7f7023c1d",
            "1af9fc90f44349678c3609f2fbbca09a",
            "8a49a01921d540c0926e05945a74721f",
            "35f12ae46d484f3f9bd5bf1313d8088e",
            "99b5d8ac0be4459288d33c3597f609a2",
            "7a156bb63fd8490a88f4ca4edd1852af",
            "84286491a9004c0bb0d3ef2d9eef0a61",
            "4db67c07b1de43cdbf7f284352183dd6",
            "e5e1a74269fa4dab97535e96d339e0dc",
            "bc3fa8493b874ab88a31a0a4a52c2661",
            "dd0564744f8640b7909d07019dca5b0f",
            "75b9f371936c48db84430e23636664bc",
            "c0538e124c5a4be48d5ae908dcb61117",
            "89708b145e72447294c5ae5d838088f6",
            "8b84b09bbf3c423e8be08e7a8a561aa0",
            "cce5268550f6479b8a6bc157126123ca",
            "7a71db47319644a8a6c77139c150b5ba",
            "15aa64b698e148cdbf2d9cfe37ff74b9",
            "8a072de2d38d4ff1aad707db55706eb2"
          ]
        }
      },
      "source": [
        "from google.colab import drive\n",
        "drive.mount('/content/drive')\n",
        "\n",
        "from transformers import BertModel\n",
        "bert_model=BertModel.from_pretrained('bert-base-uncased')\n",
        "tokenizer = BertTokenizer.from_pretrained('bert-base-uncased')"
      ],
      "execution_count": 2,
      "outputs": [
        {
          "output_type": "stream",
          "text": [
            "Go to this URL in a browser: https://accounts.google.com/o/oauth2/auth?client_id=947318989803-6bn6qk8qdgf4n4g3pfee6491hc0brc4i.apps.googleusercontent.com&redirect_uri=urn%3aietf%3awg%3aoauth%3a2.0%3aoob&response_type=code&scope=email%20https%3a%2f%2fwww.googleapis.com%2fauth%2fdocs.test%20https%3a%2f%2fwww.googleapis.com%2fauth%2fdrive%20https%3a%2f%2fwww.googleapis.com%2fauth%2fdrive.photos.readonly%20https%3a%2f%2fwww.googleapis.com%2fauth%2fpeopleapi.readonly\n",
            "\n",
            "Enter your authorization code:\n",
            "··········\n",
            "Mounted at /content/drive\n"
          ],
          "name": "stdout"
        },
        {
          "output_type": "display_data",
          "data": {
            "application/vnd.jupyter.widget-view+json": {
              "model_id": "aa345251d7954539b104b4ba1cd5d558",
              "version_minor": 0,
              "version_major": 2
            },
            "text/plain": [
              "HBox(children=(IntProgress(value=0, description='Downloading', max=361, style=ProgressStyle(description_width=…"
            ]
          },
          "metadata": {
            "tags": []
          }
        },
        {
          "output_type": "stream",
          "text": [
            "\n"
          ],
          "name": "stdout"
        },
        {
          "output_type": "display_data",
          "data": {
            "application/vnd.jupyter.widget-view+json": {
              "model_id": "35f12ae46d484f3f9bd5bf1313d8088e",
              "version_minor": 0,
              "version_major": 2
            },
            "text/plain": [
              "HBox(children=(IntProgress(value=0, description='Downloading', max=440473133, style=ProgressStyle(description_…"
            ]
          },
          "metadata": {
            "tags": []
          }
        },
        {
          "output_type": "stream",
          "text": [
            "\n"
          ],
          "name": "stdout"
        },
        {
          "output_type": "display_data",
          "data": {
            "application/vnd.jupyter.widget-view+json": {
              "model_id": "75b9f371936c48db84430e23636664bc",
              "version_minor": 0,
              "version_major": 2
            },
            "text/plain": [
              "HBox(children=(IntProgress(value=0, description='Downloading', max=231508, style=ProgressStyle(description_wid…"
            ]
          },
          "metadata": {
            "tags": []
          }
        },
        {
          "output_type": "stream",
          "text": [
            "\n"
          ],
          "name": "stdout"
        }
      ]
    },
    {
      "cell_type": "markdown",
      "metadata": {
        "id": "-IsIuj_WlT02",
        "colab_type": "text"
      },
      "source": [
        "# Data preparation"
      ]
    },
    {
      "cell_type": "code",
      "metadata": {
        "id": "g6vgFnK5IIRL",
        "colab_type": "code",
        "colab": {}
      },
      "source": [
        "training_data=[]\n",
        "with open('/content/drive/My Drive/train.txt','r') as f:\n",
        "  line=f.readline()\n",
        "  while(line):\n",
        "    line=f.readline()\n",
        "    if(line.strip()==''):\n",
        "       training_data.append({'sent':'','label':''})\n",
        "    else: \n",
        "      line=line.split()  \n",
        "      training_data[-1]['sent']+=' '+str(line[0])\n",
        "      training_data[-1]['label']+=' '+str(line[-1])\n",
        "\n",
        "validation_data=[]\n",
        "with open('/content/drive/My Drive/valid.txt','r') as f:\n",
        "  line=f.readline()\n",
        "  while(line):\n",
        "    line=f.readline()\n",
        "    if(line.strip()==''):\n",
        "       validation_data.append({'sent':'','label':''})\n",
        "    else: \n",
        "      line=line.split()  \n",
        "      validation_data[-1]['sent']+=' '+str(line[0])\n",
        "      validation_data[-1]['label']+=' '+str(line[-1])   "
      ],
      "execution_count": 0,
      "outputs": []
    },
    {
      "cell_type": "code",
      "metadata": {
        "id": "eA8zAQnBIJni",
        "colab_type": "code",
        "colab": {}
      },
      "source": [
        "df=pd.DataFrame(training_data)\n",
        "df_valid=pd.DataFrame(validation_data)"
      ],
      "execution_count": 0,
      "outputs": []
    },
    {
      "cell_type": "code",
      "metadata": {
        "id": "NnQ0tPO4OsmF",
        "colab_type": "code",
        "colab": {}
      },
      "source": [
        "df['label'].replace('',np.nan,inplace=True)\n",
        "df_valid['label'].replace('',np.nan,inplace=True)"
      ],
      "execution_count": 0,
      "outputs": []
    },
    {
      "cell_type": "code",
      "metadata": {
        "id": "CvQooBB9RL8l",
        "colab_type": "code",
        "outputId": "f6a7b860-aad6-49b0-cc9c-d5fbcfa04a4a",
        "colab": {
          "base_uri": "https://localhost:8080/",
          "height": 119
        }
      },
      "source": [
        "print(df.isna().sum())\n",
        "print(df_valid.isna().sum())"
      ],
      "execution_count": 6,
      "outputs": [
        {
          "output_type": "stream",
          "text": [
            "sent     0\n",
            "label    2\n",
            "dtype: int64\n",
            "sent     0\n",
            "label    2\n",
            "dtype: int64\n"
          ],
          "name": "stdout"
        }
      ]
    },
    {
      "cell_type": "code",
      "metadata": {
        "id": "AW_YmT9fSzIC",
        "colab_type": "code",
        "colab": {}
      },
      "source": [
        "df.dropna(inplace=True)"
      ],
      "execution_count": 0,
      "outputs": []
    },
    {
      "cell_type": "code",
      "metadata": {
        "id": "NPGoLYmxTVQM",
        "colab_type": "code",
        "outputId": "e356f3e3-348e-4c45-cf4f-f7fd7e4fcdc5",
        "colab": {
          "base_uri": "https://localhost:8080/",
          "height": 34
        }
      },
      "source": [
        "df.iloc[0]['sent']"
      ],
      "execution_count": 8,
      "outputs": [
        {
          "output_type": "execute_result",
          "data": {
            "text/plain": [
              "' EU rejects German call to boycott British lamb .'"
            ]
          },
          "metadata": {
            "tags": []
          },
          "execution_count": 8
        }
      ]
    },
    {
      "cell_type": "code",
      "metadata": {
        "id": "VcVO-6pAeEsc",
        "colab_type": "code",
        "colab": {}
      },
      "source": [
        "def convert_to_ints(sent):\n",
        "    tokens=tokenizer.tokenize(sent)\n",
        "    tokens=tokenizer.convert_tokens_to_ids(tokens)     \n",
        "    return tokens"
      ],
      "execution_count": 0,
      "outputs": []
    },
    {
      "cell_type": "code",
      "metadata": {
        "id": "eT_HOfPSe_U_",
        "colab_type": "code",
        "colab": {}
      },
      "source": [
        "df['encoding']=df['sent'].apply(lambda x:convert_to_ints(x))\n",
        "df['attn_mask']=df['encoding'].apply(lambda x:[0 if tok==tokenizer.convert_tokens_to_ids('[PAD]') else 1 for tok in x])\n",
        "df_valid['encoding']=df_valid['sent'].apply(lambda x:convert_to_ints(x))\n",
        "df_valid['attn_mask']=df_valid['encoding'].apply(lambda x:[0 if tok==tokenizer.convert_tokens_to_ids('[PAD]') else 1 for tok in x])"
      ],
      "execution_count": 0,
      "outputs": []
    },
    {
      "cell_type": "code",
      "metadata": {
        "id": "2WSoFtC_gTNY",
        "colab_type": "code",
        "colab": {}
      },
      "source": [
        "unique_labels=np.unique(''.join(list(df['label'])).split())\n",
        "tag_to_index={}\n",
        "index_to_tag={}\n",
        "for i,lbl in enumerate(list(unique_labels)):\n",
        "  tag_to_index[lbl]=i\n",
        "  index_to_tag[i]=lbl"
      ],
      "execution_count": 0,
      "outputs": []
    },
    {
      "cell_type": "code",
      "metadata": {
        "id": "Gm0GTtiGtmaX",
        "colab_type": "code",
        "colab": {}
      },
      "source": [
        "def argmax(vec):\n",
        "    # return the argmax as a python int\n",
        "    _, idx = torch.max(vec, 1)\n",
        "    return idx.item()\n",
        "def log_sum_exp(vec):\n",
        "    max_score = vec[0, argmax(vec)]\n",
        "    max_score_broadcast = max_score.view(1, -1).expand(1, vec.size()[1])\n",
        "    return max_score + \\\n",
        "        torch.log(torch.sum(torch.exp(vec - max_score_broadcast)))    "
      ],
      "execution_count": 0,
      "outputs": []
    },
    {
      "cell_type": "code",
      "metadata": {
        "id": "DhP8Lc1Gaogb",
        "colab_type": "code",
        "colab": {}
      },
      "source": [
        "df['label_tokenized']=df['label'].apply(lambda x: x.split())"
      ],
      "execution_count": 0,
      "outputs": []
    },
    {
      "cell_type": "code",
      "metadata": {
        "id": "iWv30TqlLRcD",
        "colab_type": "code",
        "colab": {}
      },
      "source": [
        "for index,row in df.iterrows():\n",
        "  tokenized=tokenizer.tokenize(row['sent'])\n",
        "  if(len(row['encoding'])!=len(row['label_tokenized']) and sum([1 if(tok.startswith('##')) else 0 for tok in tokenized])>0):\n",
        "    for i in range(len(tokenized)):\n",
        "      if(tokenized[i].startswith('##')):\n",
        "        df.iloc[index]['label_tokenized'].insert(i,'O')\n",
        "  "
      ],
      "execution_count": 0,
      "outputs": []
    },
    {
      "cell_type": "code",
      "metadata": {
        "id": "GgGbzjlqdWxh",
        "colab_type": "code",
        "colab": {}
      },
      "source": [
        "df_valid.dropna(inplace=True)\n",
        "df_valid['label_tokenized']=df_valid['label'].apply(lambda x: x.split())\n",
        "for index,row in df_valid.iterrows():\n",
        "  tokenized=tokenizer.tokenize(row['sent'])\n",
        "  if(len(row['encoding'])!=len(row['label_tokenized']) and sum([1 if(tok.startswith('##')) else 0 for tok in tokenized])>0):\n",
        "    for i in range(len(tokenized)):\n",
        "      if(tokenized[i].startswith('##')):\n",
        "        df.iloc[index]['label_tokenized'].insert(i,'O')"
      ],
      "execution_count": 0,
      "outputs": []
    },
    {
      "cell_type": "code",
      "metadata": {
        "id": "kEnA88VGeYE_",
        "colab_type": "code",
        "colab": {}
      },
      "source": [
        "mask=[]\n",
        "for index,row in df.iterrows():\n",
        "  mask.append(len(row['encoding'])==len(row['label_tokenized']))\n",
        "df=df[mask] \n",
        "\n",
        "mask=[]\n",
        "for index,row in df_valid.iterrows():\n",
        "  mask.append(len(row['encoding'])==len(row['label_tokenized']))\n",
        "df_valid=df_valid[mask]"
      ],
      "execution_count": 0,
      "outputs": []
    },
    {
      "cell_type": "markdown",
      "metadata": {
        "id": "R5l0fsOblcqx",
        "colab_type": "text"
      },
      "source": [
        "# Model"
      ]
    },
    {
      "cell_type": "code",
      "metadata": {
        "id": "k8JJsP1mgZsQ",
        "colab_type": "code",
        "colab": {}
      },
      "source": [
        "class BERT_CRF(nn.Module):\n",
        "    def __init__(self,hidden_size,tag_to_index):\n",
        "        super(BERT_CRF, self).__init__()\n",
        "        self.bert_layer = BertModel.from_pretrained('bert-base-uncased')\n",
        "        for p in self.bert_layer.parameters():\n",
        "            p.requires_grad = False\n",
        "\n",
        "        self.target_size=len(tag_to_index)\n",
        "        # self.embed = nn.Embedding(vocab_size, embedding_size)\n",
        "        # self.lstm = nn.LSTM(embedding_size, hidden_size // 2,num_layers=2, bidirectional=True)\n",
        "        self.hidden2tag = nn.Linear(hidden_size, self.target_size)\n",
        "        self.transitions = nn.Parameter(torch.randn(self.target_size, self.target_size))\n",
        "        self.start_transition=nn.Parameter(torch.randn(1, self.target_size))\n",
        "        self.end_transition=nn.Parameter(torch.randn(1, self.target_size))\n",
        "        # self.hidden=self.init_hidden(hidden_size)\n",
        "    def _get_lstm_features(self,sentence,attn_mask):\n",
        "        cont_reps, _ = self.bert_layer(sentence, attention_mask = attn_mask)\n",
        "        output=self.hidden2tag(cont_reps)\n",
        "        return output\n",
        "    def _forward(self,features):   \n",
        "        temp= self.start_transition.data+features[0,0,:]\n",
        "        labels=[]\n",
        "        lbl=torch.argmax(temp,1)\n",
        "        # score=torch.max(veterbi_var)\n",
        "        labels.append(lbl)\n",
        "        # labels.append(argmax(veterbi_var))\n",
        "        # score=torch.max(veterbi_var)        \n",
        "        for indx in range(1,features.shape[1]):\n",
        "            veterbi_var=[]\n",
        "            for tag in range(features.shape[2]):                             \n",
        "                veterbi_var.append(log_sum_exp(temp+self.transitions[:,tag].view(1,9)+features[0,indx,tag].expand(1,9)).view(1,1))\n",
        "            # print(veterbi_var)                   \n",
        "            temp=torch.cat(veterbi_var,dim=1)\n",
        "            # print(temp.shape)\n",
        "            lbl=torch.argmax(temp,1)\n",
        "                # score=torch.max(veterbi_var)\n",
        "            labels.append(lbl)\n",
        "            # score=torch.max(veterbi_var)   \n",
        "        temp+=self.end_transition.view(1,-1)\n",
        "        # print(torch.min(temp))\n",
        "        score=log_sum_exp(temp)\n",
        "        return score,labels\n",
        "    def _score_sentence(self,feats,tags):\n",
        "        score=feats[0,0,tags[0]]+self.start_transition[0,tags[0]]\n",
        "        for indx in range(1,feats.shape[1]):\n",
        "            # print(feats.shape,tags[indx],indx,tags.shape)\n",
        "            score+=feats[0,indx,tags[indx]]+self.transitions[tags[indx-1],tags[indx]]\n",
        "        score+=self.end_transition[0,tags[-1]] \n",
        "        return score\n",
        "    def _neg_log_likelihood(self,sentence,targets,attn_mask):\n",
        "        feats = self._get_lstm_features(sentence,attn_mask)\n",
        "        forward_score,_=self._forward(feats)        \n",
        "        gold_score = self._score_sentence(feats, targets.view(-1)) \n",
        "        # print('forward score {}'.format(forward_score),'gold score {}'.format(gold_score)) \n",
        "        loss=forward_score - gold_score     \n",
        "        return loss\n",
        "    def _viterbi(self,features):        \n",
        "        temp= self.start_transition.data.view(1,-1)+features[0,0,:].view(1,-1)\n",
        "        labels=[]\n",
        "        # print(temp)\n",
        "        temp,lbl=torch.max(temp,1)\n",
        "        # print(temp,lbl)\n",
        "        labels.append(lbl)     \n",
        "        for indx in range(1,features.shape[1]):\n",
        "            veterbi_var=[]\n",
        "            for tag in range(features.shape[2]):                            \n",
        "                veterbi_var.append(temp.view(1,1)+self.transitions[lbl[-1],tag].view(1)+features[0,indx,tag].view(1))\n",
        "            # print(veterbi_var)                   \n",
        "            temp=torch.cat(veterbi_var,dim=1)\n",
        "            # lbl=torch.argmax(temp,1)\n",
        "            temp,lbl=torch.max(temp,1)\n",
        "            labels.append(lbl)  \n",
        "        temp=temp.view(1,1)+self.end_transition[0,lbl].view(1,1)\n",
        "        return temp,labels  \n",
        "    def _predict(self,sentence,attn_mask):\n",
        "        feats = self._get_lstm_features(sentence,attn_mask)\n",
        "        score,labels=self._viterbi(feats)\n",
        "        return labels"
      ],
      "execution_count": 0,
      "outputs": []
    },
    {
      "cell_type": "markdown",
      "metadata": {
        "id": "oqnRmY8Plgh6",
        "colab_type": "text"
      },
      "source": [
        "# Training"
      ]
    },
    {
      "cell_type": "code",
      "metadata": {
        "id": "mxxR1KMkhKTM",
        "colab_type": "code",
        "colab": {}
      },
      "source": [
        "import pickle\n",
        "from torch.nn.utils import clip_grad_norm_\n",
        "# vocab_size=len(vocab_to_int)\n",
        "hidden_size=768\n",
        "# embedding_size=50\n",
        "df_valid.dropna(inplace=True)\n",
        "device = 'cuda' if torch.cuda.is_available() else 'cpu'\n",
        "model=BERT_CRF(hidden_size,tag_to_index).to(device)\n",
        "# if(os.path.exists('/content/drive/My Drive/model.pt')):\n",
        "#   model.load_state_dict(torch.load('/content/drive/My Drive/model.pt'))\n",
        "optimizer = optim.SGD(model.parameters(), lr=1e-3, weight_decay=1e-4)\n",
        "losses=[]\n",
        "# if(os.path.exists('/content/drive/My Drive/losses.pkl')):\n",
        "#   with open('/content/drive/My Drive/losses.pkl','rb') as f:\n",
        "#     losses=pickle.load(f)\n",
        "for epoch in tqdm(range(100)): \n",
        "    for index,row in df.iterrows():\n",
        "        model.zero_grad()\n",
        "        sent=torch.tensor(row['encoding'],dtype=torch.long).view(1,-1).to(device)\n",
        "        targets = torch.tensor([tag_to_index[t] for t in row['label_tokenized']], dtype=torch.long).view(1,-1).to(device)\n",
        "        attn_mask=torch.tensor(row['attn_mask'],dtype=torch.long).view(1,-1).to(device)\n",
        "        loss = model._neg_log_likelihood(sent, targets,attn_mask)\n",
        "        loss.backward()\n",
        "        # print(loss.data.item())\n",
        "        clip_grad_norm_(model.parameters(), 1)\n",
        "        optimizer.step() \n",
        "        losses.append(loss)\n",
        "    val_loss=0    \n",
        "    for index,row in df_valid.iterrows():\n",
        "        model.zero_grad()\n",
        "        sent=torch.tensor(row['encoding'],dtype=torch.long).view(1,-1).to(device)\n",
        "        targets = torch.tensor([tag_to_index[t] for t in row['label_tokenized']], dtype=torch.long).view(1,-1).to(device)\n",
        "        attn_mask=torch.tensor(row['attn_mask'],dtype=torch.long).view(1,-1).to(device)\n",
        "        val_loss+= model._neg_log_likelihood(sent, targets,attn_mask).data.item()    \n",
        "    val_loss=val_loss/len(df_valid)\n",
        "    print('training loss:{}'.format(loss),'validation loss:{}'.format(val_loss))\n",
        "    if(len(losses)>0 and val_loss<min(losses)):\n",
        "      torch.save(model.state_dict(), '/content/drive/My Drive/model.pt')            \n",
        "    losses.append(val_loss)"
      ],
      "execution_count": 0,
      "outputs": []
    },
    {
      "cell_type": "markdown",
      "metadata": {
        "id": "lB0e3vzt8vcV",
        "colab_type": "text"
      },
      "source": [
        "# Testing"
      ]
    },
    {
      "cell_type": "code",
      "metadata": {
        "id": "w8N_htXV3YW_",
        "colab_type": "code",
        "colab": {}
      },
      "source": [
        "def process_input(file):\n",
        "    valid_data=[]\n",
        "    with open(file,'r') as f:\n",
        "      line=f.readline()\n",
        "      while(line):\n",
        "        line=f.readline()\n",
        "        if(line.strip()==''):\n",
        "          valid_data.append({'sent':'','label':''})\n",
        "        else: \n",
        "          line=line.split()  \n",
        "          valid_data[-1]['sent']+=' '+str(line[0])\n",
        "          valid_data[-1]['label']+=' '+str(line[-1])\n",
        "    df=pd.DataFrame(valid_data)\n",
        "    df['label'].replace('',np.nan,inplace=True)\n",
        "    df.dropna(inplace=True)\n",
        "    df['encoding']=df['sent'].apply(lambda x:convert_to_ints(x))\n",
        "    target=[]\n",
        "    return df    "
      ],
      "execution_count": 0,
      "outputs": []
    },
    {
      "cell_type": "code",
      "metadata": {
        "id": "9fHOu-eH56K-",
        "colab_type": "code",
        "outputId": "47633e08-3ed9-42e6-d8e5-8f94b3c3ff55",
        "colab": {
          "base_uri": "https://localhost:8080/",
          "height": 547
        }
      },
      "source": [
        "hidden_size=768\n",
        "df_valid.dropna(inplace=True)\n",
        "device = 'cuda' if torch.cuda.is_available() else 'cpu'\n",
        "model=BERT_CRF(hidden_size,tag_to_index).to(device)\n",
        "if(os.path.exists('/content/drive/My Drive/model_BERT.pt')):\n",
        "  model.load_state_dict(torch.load('/content/drive/My Drive/model_BERT.pt'))\n",
        "i=0\n",
        "for index,row in df_valid.iterrows():\n",
        "    # print(row['sent'])\n",
        "    sent=torch.tensor(row['encoding'],dtype=torch.long).view(1,-1).to(device)   \n",
        "    attn_mask=torch.tensor(row['attn_mask'],dtype=torch.long).view(1,-1).to(device)\n",
        "    prediction=model._predict(sent,attn_mask)\n",
        "    print(row['sent'])\n",
        "    print(row['label_tokenized'])\n",
        "    # print(row['encoding'])\n",
        "    print([index_to_tag[int(t)] for t in prediction])\n",
        "    # print(row['label'])\n",
        "    i+=1\n",
        "    if(i%10==0):\n",
        "      break"
      ],
      "execution_count": 19,
      "outputs": [
        {
          "output_type": "stream",
          "text": [
            " CRICKET - LEICESTERSHIRE TAKE OVER AT TOP AFTER INNINGS VICTORY .\n",
            "['O', 'O', 'B-ORG', 'O', 'O', 'O', 'O', 'O', 'O', 'O', 'O']\n",
            "['O', 'O', 'B-LOC', 'O', 'O', 'O', 'O', 'O', 'O', 'O', 'O']\n",
            " Trailing by 213 , Somerset got a solid start to their second innings before Simmons stepped in to bundle them out for 174 .\n",
            "['O', 'O', 'O', 'O', 'B-ORG', 'O', 'O', 'O', 'O', 'O', 'O', 'O', 'O', 'O', 'B-PER', 'O', 'O', 'O', 'O', 'O', 'O', 'O', 'O', 'O']\n",
            "['B-PER', 'O', 'O', 'O', 'B-LOC', 'O', 'O', 'O', 'O', 'O', 'O', 'O', 'O', 'O', 'B-PER', 'O', 'O', 'O', 'O', 'O', 'O', 'O', 'O', 'O']\n",
            " At the Oval , Surrey captain Chris Lewis , another man dumped by England , continued to silence his critics as he followed his four for 45 on Thursday with 80 not out on Friday in the match against Warwickshire .\n",
            "['O', 'O', 'B-LOC', 'O', 'B-ORG', 'O', 'B-PER', 'I-PER', 'O', 'O', 'O', 'O', 'O', 'B-LOC', 'O', 'O', 'O', 'O', 'O', 'O', 'O', 'O', 'O', 'O', 'O', 'O', 'O', 'O', 'O', 'O', 'O', 'O', 'O', 'O', 'O', 'O', 'O', 'O', 'O', 'B-ORG', 'O']\n",
            "['O', 'O', 'O', 'O', 'B-LOC', 'O', 'O', 'B-PER', 'O', 'O', 'O', 'O', 'O', 'B-LOC', 'O', 'O', 'O', 'O', 'O', 'O', 'O', 'O', 'O', 'O', 'O', 'O', 'O', 'O', 'O', 'O', 'O', 'O', 'O', 'O', 'O', 'O', 'O', 'O', 'O', 'B-LOC', 'O']\n",
            " Derbyshire kept up the hunt for their first championship title since 1936 by reducing Worcestershire to 133 for five in their second innings , still 100 runs away from avoiding an innings defeat .\n",
            "['B-ORG', 'O', 'O', 'O', 'O', 'O', 'O', 'O', 'O', 'O', 'O', 'O', 'O', 'O', 'B-ORG', 'O', 'O', 'O', 'O', 'O', 'O', 'O', 'O', 'O', 'O', 'O', 'O', 'O', 'O', 'O', 'O', 'O', 'O', 'O']\n",
            "['O', 'O', 'O', 'O', 'O', 'O', 'O', 'O', 'O', 'O', 'O', 'O', 'O', 'O', 'B-LOC', 'O', 'O', 'O', 'O', 'O', 'O', 'O', 'O', 'O', 'O', 'O', 'O', 'O', 'O', 'O', 'O', 'O', 'O', 'O']\n",
            " After the frustration of seeing the opening day of their match badly affected by the weather , Kent stepped up a gear to dismiss Nottinghamshire for 214 .\n",
            "['O', 'O', 'O', 'O', 'O', 'O', 'O', 'O', 'O', 'O', 'O', 'O', 'O', 'O', 'O', 'O', 'O', 'B-ORG', 'O', 'O', 'O', 'O', 'O', 'O', 'B-ORG', 'O', 'O', 'O']\n",
            "['O', 'O', 'O', 'O', 'O', 'O', 'O', 'O', 'O', 'O', 'O', 'O', 'O', 'O', 'O', 'O', 'O', 'B-LOC', 'O', 'O', 'O', 'O', 'O', 'O', 'B-LOC', 'O', 'O', 'O']\n",
            " CRICKET - ENGLISH COUNTY CHAMPIONSHIP SCORES .\n",
            "['O', 'O', 'B-MISC', 'I-MISC', 'I-MISC', 'O', 'O']\n",
            "['O', 'O', 'B-MISC', 'O', 'O', 'O', 'O']\n",
            " Result and close of play scores in English county championship matches on Friday :\n",
            "['O', 'O', 'O', 'O', 'O', 'O', 'O', 'B-MISC', 'O', 'O', 'O', 'O', 'O', 'O']\n",
            "['O', 'O', 'O', 'O', 'O', 'O', 'O', 'O', 'O', 'O', 'O', 'O', 'O', 'O']\n",
            " Leicester : Leicestershire beat Somerset by an innings and 39 runs .\n",
            "['B-LOC', 'O', 'B-ORG', 'O', 'B-ORG', 'O', 'O', 'O', 'O', 'O', 'O', 'O']\n",
            "['O', 'O', 'B-LOC', 'O', 'B-LOC', 'O', 'O', 'O', 'O', 'O', 'O', 'O']\n",
            " Leicestershire 22 points , Somerset 4 .\n",
            "['B-ORG', 'O', 'O', 'O', 'B-ORG', 'O', 'O']\n",
            "['O', 'O', 'O', 'O', 'B-LOC', 'O', 'O']\n",
            " Australia will defend the Ashes in\n",
            "['B-LOC', 'O', 'O', 'O', 'B-MISC', 'O']\n",
            "['O', 'O', 'O', 'O', 'O', 'O']\n"
          ],
          "name": "stdout"
        }
      ]
    },
    {
      "cell_type": "markdown",
      "metadata": {
        "id": "zETh44-ivDln",
        "colab_type": "text"
      },
      "source": [
        "# Metrics"
      ]
    },
    {
      "cell_type": "code",
      "metadata": {
        "id": "DgthsHFhtpwR",
        "colab_type": "code",
        "colab": {
          "base_uri": "https://localhost:8080/",
          "height": 71
        },
        "outputId": "65a4474a-acfd-4881-e0b6-d8c214046632"
      },
      "source": [
        "from sklearn.metrics import multilabel_confusion_matrix,classification_report\n",
        "y_true=[]\n",
        "y_pred=[]\n",
        "for index,row in df_valid.iterrows():\n",
        "    sent=torch.tensor(row['encoding'],dtype=torch.long).view(1,-1).to(device)   \n",
        "    attn_mask=torch.tensor(row['attn_mask'],dtype=torch.long).view(1,-1).to(device)\n",
        "    prediction=model._predict(sent,attn_mask)\n",
        "    y_true.append(row['label_tokenized'])\n",
        "    y_pred.append([index_to_tag[int(t)] for t in prediction])\n",
        "classification_report([y for t in y_true for y in t ],[y for t in y_pred for y in t ])\n"
      ],
      "execution_count": 27,
      "outputs": [
        {
          "output_type": "stream",
          "text": [
            "ERROR! Session/line number was not unique in database. History logging moved to new session 59\n"
          ],
          "name": "stdout"
        },
        {
          "output_type": "execute_result",
          "data": {
            "text/plain": [
              "'              precision    recall  f1-score   support\\n\\n       B-LOC       0.68      0.67      0.68       198\\n      B-MISC       0.63      0.33      0.43       151\\n       B-ORG       0.78      0.68      0.72       311\\n       B-PER       0.59      0.55      0.57        80\\n       I-LOC       0.00      0.00      0.00        35\\n      I-MISC       1.00      0.05      0.09        85\\n       I-ORG       0.68      0.16      0.26        94\\n       I-PER       1.00      0.03      0.06        34\\n           O       0.95      1.00      0.97      6727\\n\\n    accuracy                           0.93      7715\\n   macro avg       0.70      0.38      0.42      7715\\nweighted avg       0.92      0.93      0.91      7715\\n'"
            ]
          },
          "metadata": {
            "tags": []
          },
          "execution_count": 27
        }
      ]
    },
    {
      "cell_type": "markdown",
      "metadata": {
        "id": "bTqqWa-JllW6",
        "colab_type": "text"
      },
      "source": [
        "# Validation Losses"
      ]
    },
    {
      "cell_type": "code",
      "metadata": {
        "id": "zXOaaLN89Aj0",
        "colab_type": "code",
        "outputId": "e45d524c-f098-4663-b46d-e4ca1e68fd12",
        "colab": {
          "base_uri": "https://localhost:8080/",
          "height": 1000
        }
      },
      "source": [
        "import pickle\n",
        "with open('/content/drive/My Drive/losses_BERT.pkl','rb') as f:\n",
        "  losses=pickle.load(f)\n",
        "losses  "
      ],
      "execution_count": 20,
      "outputs": [
        {
          "output_type": "execute_result",
          "data": {
            "text/plain": [
              "[4.284537094457446,\n",
              " 4.315339248871135,\n",
              " 4.364466776675949,\n",
              " 4.428749782857653,\n",
              " 4.506361849317563,\n",
              " 4.595588369585962,\n",
              " 4.695175827902372,\n",
              " 4.804076100541689,\n",
              " 4.921474426228786,\n",
              " 5.046526728071103,\n",
              " 4.227810319179846,\n",
              " 4.22786829468405,\n",
              " 4.227927920974303,\n",
              " 4.228012500681451,\n",
              " 4.228101867859131,\n",
              " 4.228187655256651,\n",
              " 4.228308704411872,\n",
              " 4.228413168674158,\n",
              " 4.228521988770672,\n",
              " 4.228652066000313,\n",
              " 4.22786829468405,\n",
              " 4.227927920974303,\n",
              " 4.228012500681451,\n",
              " 4.228101867859131,\n",
              " 4.228187655256651,\n",
              " 4.228308704411872,\n",
              " 4.228413168674158,\n",
              " 4.228521988770672,\n",
              " 4.228652066000313,\n",
              " 4.228777921088388,\n",
              " 4.215013250648896,\n",
              " 4.191826261410885,\n",
              " 4.1650134374366425,\n",
              " 4.136942745050855,\n",
              " 4.108206980059717,\n",
              " 4.080007324549799,\n",
              " 4.054729009661401,\n",
              " 4.031174804881036,\n",
              " 4.009030923983443,\n",
              " 3.9885584630062167,\n",
              " 3.969030792786378,\n",
              " 3.9501859762958276,\n",
              " 3.931585305523331,\n",
              " 3.9134917984976467,\n",
              " 3.89554012728947,\n",
              " 3.878046332436983,\n",
              " 3.861335595873233,\n",
              " 3.8448572801811514,\n",
              " 3.8288512446374217,\n",
              " 3.8132532900261467,\n",
              " 3.798238668327179,\n",
              " 3.7835494431061485,\n",
              " 3.7691409317291624,\n",
              " 3.7550023458350963,\n",
              " 3.741170289201316,\n",
              " 3.727370655584399,\n",
              " 3.713634471867845,\n",
              " 3.7002614241575844,\n",
              " 3.6870606311650396,\n",
              " 3.674030979421333,\n",
              " 3.6615462201300546,\n",
              " 3.65011299627327,\n",
              " 3.638665765882016,\n",
              " 3.6269124238608836,\n",
              " 3.6149923747308423,\n",
              " 3.6032191144130894,\n",
              " 3.591337069650199,\n",
              " 3.5795832597047528,\n",
              " 3.5682860197467066,\n",
              " 3.5568804683608906,\n",
              " 3.5454596339940068,\n",
              " 3.5343002248033186,\n",
              " 3.5234080767918017,\n",
              " 3.512625538300131,\n",
              " 3.501905549511572,\n",
              " 3.49126059413752,\n",
              " 3.4807852209012244,\n",
              " 3.470313585329756,\n",
              " 3.459942988305289,\n",
              " 3.449631579568453,\n",
              " 3.4394971493566944,\n",
              " 3.429356420310699,\n",
              " 3.419084913740171,\n",
              " 3.4090727645660115,\n",
              " 3.3990592326277564,\n",
              " 3.3889815294853993,\n",
              " 3.379059445237286,\n",
              " 3.3692104705026216,\n",
              " 3.359442401473449,\n",
              " 3.3495118258314553,\n",
              " 3.33982186642126,\n",
              " 3.330166811300056,\n",
              " 3.3206109023380663,\n",
              " 3.311125911603146,\n",
              " 3.301721799835185,\n",
              " 3.2925005535258154,\n",
              " 3.2832359089870478,\n",
              " 3.2741498628827697,\n",
              " 3.2652404228740126,\n",
              " 3.2563282443939126,\n",
              " 3.2475889922779935,\n",
              " 3.2387996324709802,\n",
              " 3.230164230586053,\n",
              " 3.2215119611437077,\n",
              " 3.212968161332114,\n",
              " 3.204527983200725,\n",
              " 3.196136572968976,\n",
              " 3.1876889733033122,\n",
              " 3.1792691514711673,\n",
              " 3.170914845409317,\n",
              " 3.1626535448754263,\n",
              " 3.1543767601848445,\n",
              " 3.146207098648927,\n",
              " 3.138089274850802,\n",
              " 3.130045412061052,\n",
              " 3.1220825546096576,\n",
              " 3.1141926284148314,\n",
              " 3.1063114810531065,\n",
              " 3.098427985793599,\n",
              " 3.090626447636868,\n",
              " 3.0829384667532787,\n",
              " 3.075253522921309,\n",
              " 3.0675575322557354,\n",
              " 3.0600463548235006,\n",
              " 3.052685710871331,\n",
              " 3.0453266320782446,\n",
              " 3.0378847978462047,\n",
              " 3.030500442227311,\n",
              " 3.0231264866241943,\n",
              " 3.0157730751266785,\n",
              " 3.0085697517853394,\n",
              " 3.001392641755067,\n",
              " 2.994293064555434,\n",
              " 2.987257964779761,\n",
              " 2.98017294289114,\n",
              " 2.9731289013046447,\n",
              " 2.96628629190422,\n",
              " 2.959545971713811,\n",
              " 2.9528239944748313,\n",
              " 2.9460106144282463,\n",
              " 2.9392648207966254,\n",
              " 2.932438034877599,\n",
              " 2.925657454415539,\n",
              " 2.9189235085002254,\n",
              " 2.91181669948257,\n",
              " 2.904861876101933,\n",
              " 2.898202043668291,\n",
              " 2.8916290856808304,\n",
              " 2.885211834124475,\n",
              " 2.878497218258072,\n",
              " 2.8718789741098485,\n",
              " 2.8651176221539405,\n",
              " 2.8585688160640377,\n",
              " 2.85209804287899,\n",
              " 2.8457646334919335,\n",
              " 2.839550555946034,\n",
              " 2.8330753171077876,\n",
              " 2.826703760748075,\n",
              " 2.820314344003777,\n",
              " 2.8137955948889495,\n",
              " 2.807249987873439,\n",
              " 2.8007860893560186,\n",
              " 2.7945219566411423,\n",
              " 2.788268988218422,\n",
              " 2.7822002963485004,\n",
              " 2.7758208511668307,\n",
              " 2.7694541312982945,\n",
              " 2.763437536911907,\n",
              " 2.757219687959699,\n",
              " 2.7511555900242683,\n",
              " 2.7450094356715122,\n",
              " 2.739097487624083,\n",
              " 2.73304373654568,\n",
              " 2.7271402639763376,\n",
              " 2.7213043112939443,\n",
              " 2.7152620218147105,\n",
              " 2.709279216656857,\n",
              " 2.703261466783898,\n",
              " 2.697269290725443,\n",
              " 2.6913719189978726,\n",
              " 2.685472205102205,\n",
              " 2.6795867342496904,\n",
              " 2.673729048870275,\n",
              " 2.6680005347935634,\n",
              " 2.6620988931770477,\n",
              " 2.656250138467399,\n",
              " 2.6504710560965443,\n",
              " 2.644851085181548,\n",
              " 2.6392867393264465,\n",
              " 2.633778936872495,\n",
              " 2.6282661371778584,\n",
              " 2.6227574103346494,\n",
              " 2.617281102688513,\n",
              " 2.611817568102889,\n",
              " 2.606371544391036,\n",
              " 2.6009357090149128,\n",
              " 2.5954923193668016,\n",
              " 2.590113296687046,\n",
              " 2.5847773265456646,\n",
              " 2.5794533944734743,\n",
              " 2.574189203285248,\n",
              " 2.568953081826183,\n",
              " 2.5637482014771935,\n",
              " 2.558548615675902,\n",
              " 2.553313843557768,\n",
              " 2.5480859394226276,\n",
              " 2.5429244808584093,\n",
              " 2.5377746229973908,\n",
              " 2.5326935401427573,\n",
              " 2.527634350098023]"
            ]
          },
          "metadata": {
            "tags": []
          },
          "execution_count": 20
        }
      ]
    },
    {
      "cell_type": "code",
      "metadata": {
        "id": "ELGnqy7GALpf",
        "colab_type": "code",
        "colab": {}
      },
      "source": [
        ""
      ],
      "execution_count": 0,
      "outputs": []
    }
  ]
}